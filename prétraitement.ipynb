{
 "cells": [
  {
   "cell_type": "code",
   "execution_count": 72,
   "id": "f43e4b9d-7d25-4a52-be0d-e5d4012cded6",
   "metadata": {},
   "outputs": [],
   "source": [
    "# -*- coding: utf-8 -*-\n",
    "\"\"\"\n",
    "Created on Sat Sep 28 00:36:31 2024\n",
    "\n",
    "@author: Djibril Awa Makhtar FALL\n",
    "\n",
    "Point de Controle Prétraitement des Données \n",
    "\"\"\"\n",
    "import numpy as np\n",
    "\n",
    "import pandas as pd\n",
    "\n",
    "from scipy import stats"
   ]
  },
  {
   "cell_type": "markdown",
   "id": "5ffc7fb9-fb22-420b-baaf-76d007067fc9",
   "metadata": {},
   "source": [
    " 1) Chargez l'ensemble de données, affichez les dix premières lignes, \n",
    "stockez les résultats dans une variable appelée « client_0_bills »."
   ]
  },
  {
   "cell_type": "code",
   "execution_count": 75,
   "id": "683ae63b-95c8-452d-9eb5-e031351db3e1",
   "metadata": {},
   "outputs": [
    {
     "name": "stderr",
     "output_type": "stream",
     "text": [
      "C:\\Users\\DELL\\AppData\\Local\\Temp\\ipykernel_6544\\781215761.py:3: DtypeWarning: Columns (4) have mixed types. Specify dtype option on import or set low_memory=False.\n",
      "  client_0_bills = pd.read_csv('STEG_BILLING_HISTORY.csv')\n"
     ]
    }
   ],
   "source": [
    "# Chargement de l'ensemble des données :\n",
    "    \n",
    "client_0_bills = pd.read_csv('STEG_BILLING_HISTORY.csv')"
   ]
  },
  {
   "cell_type": "code",
   "execution_count": 77,
   "id": "61928bf6-7bdf-48c1-9967-633d48cd378c",
   "metadata": {},
   "outputs": [
    {
     "name": "stdout",
     "output_type": "stream",
     "text": [
      "        client_id invoice_date  tarif_type  counter_number counter_statue  \\\n",
      "0  train_Client_0   2014-03-24          11       1335667.0              0   \n",
      "1  train_Client_0   2013-03-29          11       1335667.0              0   \n",
      "2  train_Client_0   2015-03-23          11       1335667.0              0   \n",
      "3  train_Client_0   2015-07-13          11       1335667.0              0   \n",
      "4  train_Client_0   2016-11-17          11       1335667.0              0   \n",
      "5  train_Client_0   2017-07-17          11       1335667.0              0   \n",
      "6  train_Client_0   2018-12-07          11       1335667.0              0   \n",
      "7  train_Client_0   2019-03-19          11       1335667.0              0   \n",
      "8  train_Client_0   2011-07-22          11       1335667.0              0   \n",
      "9  train_Client_0   2011-11-22          11       1335667.0              0   \n",
      "\n",
      "   counter_code  reading_remarque  counter_coefficient  consommation_level_1  \\\n",
      "0           203               8.0                    1                    82   \n",
      "1           203               6.0                    1                  1200   \n",
      "2           203               8.0                    1                   123   \n",
      "3           207               8.0                    1                   102   \n",
      "4           207               9.0                    1                   572   \n",
      "5           207               9.0                    1                   314   \n",
      "6           207               9.0                    1                   541   \n",
      "7           207               9.0                    1                   585   \n",
      "8           203               9.0                    1                  1200   \n",
      "9           203               6.0                    1                  1082   \n",
      "\n",
      "   consommation_level_2  consommation_level_3  consommation_level_4  \\\n",
      "0                     0                     0                     0   \n",
      "1                   184                     0                     0   \n",
      "2                     0                     0                     0   \n",
      "3                     0                     0                     0   \n",
      "4                     0                     0                     0   \n",
      "5                     0                     0                     0   \n",
      "6                     0                     0                     0   \n",
      "7                     0                     0                     0   \n",
      "8                   186                     0                     0   \n",
      "9                     0                     0                     0   \n",
      "\n",
      "   old_index  new_index  months_number counter_type  \n",
      "0      14302      14384              4         ELEC  \n",
      "1      12294      13678              4         ELEC  \n",
      "2      14624      14747              4         ELEC  \n",
      "3      14747      14849              4         ELEC  \n",
      "4      15066      15638             12         ELEC  \n",
      "5      15638      15952              8         ELEC  \n",
      "6      15952      16493             12         ELEC  \n",
      "7      16493      17078              8         ELEC  \n",
      "8       7770       9156              4         ELEC  \n",
      "9       9156      10238              4         ELEC  \n"
     ]
    }
   ],
   "source": [
    "# Affichage des dix premières lignes\n",
    "\n",
    "print(client_0_bills.head(10))"
   ]
  },
  {
   "cell_type": "markdown",
   "id": "567b068a-a100-45b5-97cd-373fa9478964",
   "metadata": {},
   "source": [
    "# 2)  Quel est le type de données de la variable 'client_0_bills' ?"
   ]
  },
  {
   "cell_type": "code",
   "execution_count": 80,
   "id": "4e114282-fbe4-467e-917a-98d2c95edc95",
   "metadata": {},
   "outputs": [
    {
     "name": "stdout",
     "output_type": "stream",
     "text": [
      "<class 'pandas.core.frame.DataFrame'>\n"
     ]
    }
   ],
   "source": [
    "print(type(client_0_bills))"
   ]
  },
  {
   "cell_type": "markdown",
   "id": "7dd32bf5-c387-4821-a044-24a5136c5dfd",
   "metadata": {},
   "source": [
    "# 3) Affichez les informations générales du jeu de données et essayez de répondre aux questions suivantes :"
   ]
  },
  {
   "cell_type": "code",
   "execution_count": 83,
   "id": "134391f6-7dce-47cd-ad8a-22c50c923769",
   "metadata": {},
   "outputs": [
    {
     "name": "stdout",
     "output_type": "stream",
     "text": [
      "<class 'pandas.core.frame.DataFrame'>\n",
      "RangeIndex: 4476749 entries, 0 to 4476748\n",
      "Data columns (total 16 columns):\n",
      " #   Column                Dtype  \n",
      "---  ------                -----  \n",
      " 0   client_id             object \n",
      " 1   invoice_date          object \n",
      " 2   tarif_type            int64  \n",
      " 3   counter_number        float64\n",
      " 4   counter_statue        object \n",
      " 5   counter_code          int64  \n",
      " 6   reading_remarque      float64\n",
      " 7   counter_coefficient   int64  \n",
      " 8   consommation_level_1  int64  \n",
      " 9   consommation_level_2  int64  \n",
      " 10  consommation_level_3  int64  \n",
      " 11  consommation_level_4  int64  \n",
      " 12  old_index             int64  \n",
      " 13  new_index             int64  \n",
      " 14  months_number         int64  \n",
      " 15  counter_type          object \n",
      "dtypes: float64(2), int64(10), object(4)\n",
      "memory usage: 546.5+ MB\n",
      "None\n"
     ]
    }
   ],
   "source": [
    "# Affichage des informations générales du jeu de données :\n",
    "    \n",
    "print(client_0_bills.info())"
   ]
  },
  {
   "cell_type": "code",
   "execution_count": 85,
   "id": "29c34f3e-e1f5-42cd-8ed3-c4ca772bf68e",
   "metadata": {},
   "outputs": [
    {
     "data": {
      "text/plain": [
       "(4476749, 16)"
      ]
     },
     "execution_count": 85,
     "metadata": {},
     "output_type": "execute_result"
    }
   ],
   "source": [
    "# Combien de lignes et de colonnes avons-nous dans cet ensemble de données ?\n",
    "\n",
    "client_0_bills.shape"
   ]
  },
  {
   "cell_type": "code",
   "execution_count": 87,
   "id": "ab6b4fee-4c84-474b-8f55-d6f3d064e512",
   "metadata": {},
   "outputs": [
    {
     "name": "stdout",
     "output_type": "stream",
     "text": [
      "Il y a en tout 4476749 lignes et 16 colonnes dans cet ensemble de données.\n"
     ]
    }
   ],
   "source": [
    "print(\"Il y a en tout 4476749 lignes et 16 colonnes dans cet ensemble de données.\")"
   ]
  },
  {
   "cell_type": "markdown",
   "id": "cefa433c-6ba5-4d43-96e3-ef4941d38698",
   "metadata": {},
   "source": [
    "Combien de fonctionnalités catégorielles sont présentes dans l'ensemble de données ?"
   ]
  },
  {
   "cell_type": "code",
   "execution_count": 90,
   "id": "7a1a730b-8f36-4878-96c6-d3263ffb8277",
   "metadata": {},
   "outputs": [
    {
     "name": "stdout",
     "output_type": "stream",
     "text": [
      "On a au total 4 focntionnalités catégorielles dans l'ensembles de donées.\n"
     ]
    }
   ],
   "source": [
    "print(\"On a au total 4 focntionnalités catégorielles dans l'ensembles de donées.\")"
   ]
  },
  {
   "cell_type": "markdown",
   "id": "2e78f1ee-c198-4673-97fb-707b4d0f7614",
   "metadata": {},
   "source": [
    "Combien d'espace mémoire l'ensemble de données consomme-t-il ?"
   ]
  },
  {
   "cell_type": "code",
   "execution_count": 93,
   "id": "faef2470-cc7c-49a5-9ad4-ce2e05674c6e",
   "metadata": {},
   "outputs": [
    {
     "name": "stdout",
     "output_type": "stream",
     "text": [
      "L'ensemble des données consomme en mémoire 546.5 MB et plus\n"
     ]
    }
   ],
   "source": [
    "print(\"L'ensemble des données consomme en mémoire 546.5 MB et plus\")"
   ]
  },
  {
   "cell_type": "markdown",
   "id": "9e28e44d-e8a9-45da-b0ec-2599c865a9ba",
   "metadata": {},
   "source": [
    "# 4) Inspectez l’ensemble de données pour détecter d’éventuelles valeurs manquantes."
   ]
  },
  {
   "cell_type": "code",
   "execution_count": 96,
   "id": "d8042bc6-e6d8-4d10-9acd-9ea012364c87",
   "metadata": {},
   "outputs": [
    {
     "name": "stdout",
     "output_type": "stream",
     "text": [
      "         client_id  invoice_date  tarif_type  counter_number  counter_statue  \\\n",
      "0            False         False       False           False           False   \n",
      "1            False         False       False           False           False   \n",
      "2            False         False       False           False           False   \n",
      "3            False         False       False           False           False   \n",
      "4            False         False       False           False           False   \n",
      "...            ...           ...         ...             ...             ...   \n",
      "4476744      False         False       False           False           False   \n",
      "4476745      False         False       False           False           False   \n",
      "4476746      False         False       False           False           False   \n",
      "4476747      False         False       False           False           False   \n",
      "4476748      False         False       False           False           False   \n",
      "\n",
      "         counter_code  reading_remarque  counter_coefficient  \\\n",
      "0               False             False                False   \n",
      "1               False             False                False   \n",
      "2               False             False                False   \n",
      "3               False             False                False   \n",
      "4               False             False                False   \n",
      "...               ...               ...                  ...   \n",
      "4476744         False             False                False   \n",
      "4476745         False             False                False   \n",
      "4476746         False             False                False   \n",
      "4476747         False             False                False   \n",
      "4476748         False             False                False   \n",
      "\n",
      "         consommation_level_1  consommation_level_2  consommation_level_3  \\\n",
      "0                       False                 False                 False   \n",
      "1                       False                 False                 False   \n",
      "2                       False                 False                 False   \n",
      "3                       False                 False                 False   \n",
      "4                       False                 False                 False   \n",
      "...                       ...                   ...                   ...   \n",
      "4476744                 False                 False                 False   \n",
      "4476745                 False                 False                 False   \n",
      "4476746                 False                 False                 False   \n",
      "4476747                 False                 False                 False   \n",
      "4476748                 False                 False                 False   \n",
      "\n",
      "         consommation_level_4  old_index  new_index  months_number  \\\n",
      "0                       False      False      False          False   \n",
      "1                       False      False      False          False   \n",
      "2                       False      False      False          False   \n",
      "3                       False      False      False          False   \n",
      "4                       False      False      False          False   \n",
      "...                       ...        ...        ...            ...   \n",
      "4476744                 False      False      False          False   \n",
      "4476745                 False      False      False          False   \n",
      "4476746                 False      False      False          False   \n",
      "4476747                 False      False      False          False   \n",
      "4476748                 False      False      False          False   \n",
      "\n",
      "         counter_type  \n",
      "0               False  \n",
      "1               False  \n",
      "2               False  \n",
      "3               False  \n",
      "4               False  \n",
      "...               ...  \n",
      "4476744         False  \n",
      "4476745         False  \n",
      "4476746         False  \n",
      "4476747         False  \n",
      "4476748         False  \n",
      "\n",
      "[4476749 rows x 16 columns]\n"
     ]
    }
   ],
   "source": [
    "print(client_0_bills.isnull())"
   ]
  },
  {
   "cell_type": "markdown",
   "id": "531ad9ff-8b7f-4351-9645-b3fa1d157dad",
   "metadata": {},
   "source": [
    "5) Sélectionnez votre stratégie pour gérer les valeurs manquantes et dites-nous pourquoi vous avez fait ce choix."
   ]
  },
  {
   "cell_type": "code",
   "execution_count": 99,
   "id": "8d55b861-5836-4809-ab52-ded46e902932",
   "metadata": {},
   "outputs": [
    {
     "name": "stdout",
     "output_type": "stream",
     "text": [
      "Il semble que le pourcentage de données catégorielles est beaucoup plus importantes\n",
      "que les autres types de données. Donc il est préférable de gérer les valeurs manquantes\n",
      "par le mode pour les colonnes client_id, invoice_date et counter_type,\n",
      "et la moyenne pour la colonne months_number.\n"
     ]
    }
   ],
   "source": [
    "print(\"\"\"Il semble que le pourcentage de données catégorielles est beaucoup plus importantes\n",
    "que les autres types de données. Donc il est préférable de gérer les valeurs manquantes\n",
    "par le mode pour les colonnes client_id, invoice_date et counter_type,\n",
    "et la moyenne pour la colonne months_number.\"\"\")"
   ]
  },
  {
   "cell_type": "markdown",
   "id": "c947c2fd-fc63-4aec-90a9-e7f7be0f7f2b",
   "metadata": {},
   "source": [
    "# Calculons le mode avant de remplacer les valeurs manquantes (catégorielles)"
   ]
  },
  {
   "cell_type": "code",
   "execution_count": 104,
   "id": "df2e3814-1cc2-4f7b-b56d-f885dce26e25",
   "metadata": {},
   "outputs": [
    {
     "name": "stdout",
     "output_type": "stream",
     "text": [
      "train_Client_116878\n"
     ]
    }
   ],
   "source": [
    "mode_client_id = client_0_bills['client_id'].mode()[0]\n",
    "\n",
    "print(mode_client_id)"
   ]
  },
  {
   "cell_type": "code",
   "execution_count": 106,
   "id": "8ba7183a-b2a5-4cfe-91f7-0112a727a26d",
   "metadata": {},
   "outputs": [
    {
     "name": "stdout",
     "output_type": "stream",
     "text": [
      "2019-03-09\n"
     ]
    }
   ],
   "source": [
    "mode_invoice_date = client_0_bills['invoice_date'].mode()[0]\n",
    "\n",
    "print(mode_invoice_date)"
   ]
  },
  {
   "cell_type": "code",
   "execution_count": 108,
   "id": "286a9ba4-b8bb-488d-b8b5-0845e1bfc8dc",
   "metadata": {},
   "outputs": [
    {
     "name": "stdout",
     "output_type": "stream",
     "text": [
      "ELEC\n"
     ]
    }
   ],
   "source": [
    "mode_counter_type = client_0_bills['counter_type'].mode()[0]\n",
    "\n",
    "print(mode_counter_type)"
   ]
  },
  {
   "cell_type": "markdown",
   "id": "c8936c4f-20cf-4250-9a56-603109484bb8",
   "metadata": {},
   "source": [
    "# Calculons la moyenne avany de remplacer les valeurs manquantes (Numériques)"
   ]
  },
  {
   "cell_type": "code",
   "execution_count": 111,
   "id": "e35ec7e6-fd4a-4b29-b8f2-592d428b500e",
   "metadata": {},
   "outputs": [
    {
     "name": "stdout",
     "output_type": "stream",
     "text": [
      "44.83094651944972\n"
     ]
    }
   ],
   "source": [
    "# Calculons la médiane avant de remplacer les valeurs manquantes (Numériques)\n",
    "\n",
    "moyenne_months_number = client_0_bills['months_number'].mean()\n",
    "\n",
    "print(moyenne_months_number)"
   ]
  },
  {
   "cell_type": "code",
   "execution_count": 113,
   "id": "0040ddaa-e62b-44aa-91e8-d6c33b4df74f",
   "metadata": {},
   "outputs": [
    {
     "name": "stdout",
     "output_type": "stream",
     "text": [
      "                  client_id invoice_date  tarif_type  counter_number  \\\n",
      "0            train_Client_0   2014-03-24          11       1335667.0   \n",
      "1            train_Client_0   2013-03-29          11       1335667.0   \n",
      "2            train_Client_0   2015-03-23          11       1335667.0   \n",
      "3            train_Client_0   2015-07-13          11       1335667.0   \n",
      "4            train_Client_0   2016-11-17          11       1335667.0   \n",
      "...                     ...          ...         ...             ...   \n",
      "4476744  train_Client_99998   2005-08-19          10       1253571.0   \n",
      "4476745  train_Client_99998   2005-12-19          10       1253571.0   \n",
      "4476746  train_Client_99999   1996-09-25          11        560948.0   \n",
      "4476747  train_Client_99999   1996-05-28          11        560948.0   \n",
      "4476748  train_Client_99999   1996-01-25          11        560948.0   \n",
      "\n",
      "        counter_statue  counter_code  reading_remarque  counter_coefficient  \\\n",
      "0                    0           203               8.0                    1   \n",
      "1                    0           203               6.0                    1   \n",
      "2                    0           203               8.0                    1   \n",
      "3                    0           207               8.0                    1   \n",
      "4                    0           207               9.0                    1   \n",
      "...                ...           ...               ...                  ...   \n",
      "4476744              0           202               9.0                    1   \n",
      "4476745              0           202               6.0                    1   \n",
      "4476746              0           203               6.0                    1   \n",
      "4476747              0           203               6.0                    1   \n",
      "4476748              0           203               6.0                    1   \n",
      "\n",
      "         consommation_level_1  consommation_level_2  consommation_level_3  \\\n",
      "0                          82                     0                     0   \n",
      "1                        1200                   184                     0   \n",
      "2                         123                     0                     0   \n",
      "3                         102                     0                     0   \n",
      "4                         572                     0                     0   \n",
      "...                       ...                   ...                   ...   \n",
      "4476744                   400                   135                     0   \n",
      "4476745                   200                     6                     0   \n",
      "4476746                   259                     0                     0   \n",
      "4476747                   603                     0                     0   \n",
      "4476748                   516                     0                     0   \n",
      "\n",
      "         consommation_level_4  old_index  new_index  months_number  \\\n",
      "0                           0      14302      14384              4   \n",
      "1                           0      12294      13678              4   \n",
      "2                           0      14624      14747              4   \n",
      "3                           0      14747      14849              4   \n",
      "4                           0      15066      15638             12   \n",
      "...                       ...        ...        ...            ...   \n",
      "4476744                     0       3197       3732              8   \n",
      "4476745                     0       3732       3938              4   \n",
      "4476746                     0      13884      14143              4   \n",
      "4476747                     0      13281      13884              4   \n",
      "4476748                     0      12765      13281              4   \n",
      "\n",
      "        counter_type  \n",
      "0               ELEC  \n",
      "1               ELEC  \n",
      "2               ELEC  \n",
      "3               ELEC  \n",
      "4               ELEC  \n",
      "...              ...  \n",
      "4476744         ELEC  \n",
      "4476745         ELEC  \n",
      "4476746         ELEC  \n",
      "4476747         ELEC  \n",
      "4476748         ELEC  \n",
      "\n",
      "[4476749 rows x 16 columns]\n"
     ]
    },
    {
     "name": "stderr",
     "output_type": "stream",
     "text": [
      "C:\\Users\\DELL\\AppData\\Local\\Temp\\ipykernel_6544\\3499320286.py:3: UserWarning: Pandas doesn't allow columns to be created via a new attribute name - see https://pandas.pydata.org/pandas-docs/stable/indexing.html#attribute-access\n",
      "  client_0_bills.moyenne_months_number = client_0_bills.fillna(moyenne_months_number)\n"
     ]
    }
   ],
   "source": [
    "# Remplaçons maintenant les valeurs manquantes par la moyenne\n",
    "\n",
    "client_0_bills.moyenne_months_number = client_0_bills.fillna(moyenne_months_number)\n",
    "\n",
    "print(client_0_bills.moyenne_months_number)"
   ]
  },
  {
   "cell_type": "markdown",
   "id": "af0a2f60-0ccc-47e7-bae9-767a59351c0d",
   "metadata": {},
   "source": [
    "# 6) Exécutez une analyse descriptive sur les caractéristiques numériques (colonnes)."
   ]
  },
  {
   "cell_type": "code",
   "execution_count": 116,
   "id": "796051a0-bc41-48f8-a8c1-ff13103f65d8",
   "metadata": {},
   "outputs": [
    {
     "name": "stdout",
     "output_type": "stream",
     "text": [
      "                  client_id invoice_date    tarif_type  counter_number  \\\n",
      "count               4476749      4476749  4.476749e+06    4.476701e+06   \n",
      "unique               135493         8275           NaN             NaN   \n",
      "top     train_Client_116878   2019-03-09           NaN             NaN   \n",
      "freq                    439         4127           NaN             NaN   \n",
      "mean                    NaN          NaN  2.012804e+01    1.230595e+11   \n",
      "std                     NaN          NaN  1.347256e+01    1.657276e+12   \n",
      "min                     NaN          NaN  8.000000e+00    0.000000e+00   \n",
      "25%                     NaN          NaN  1.100000e+01    1.211080e+05   \n",
      "50%                     NaN          NaN  1.100000e+01    4.945610e+05   \n",
      "75%                     NaN          NaN  4.000000e+01    1.115161e+06   \n",
      "max                     NaN          NaN  4.500000e+01    2.798115e+13   \n",
      "\n",
      "        counter_statue  counter_code  reading_remarque  counter_coefficient  \\\n",
      "count        4476749.0  4.476749e+06      4.472218e+06         4.476749e+06   \n",
      "unique            16.0           NaN               NaN                  NaN   \n",
      "top                0.0           NaN               NaN                  NaN   \n",
      "freq         4346960.0           NaN               NaN                  NaN   \n",
      "mean               NaN  1.724884e+02      7.321713e+00         1.003040e+00   \n",
      "std                NaN  1.338871e+02      1.571859e+00         3.083466e-01   \n",
      "min                NaN  0.000000e+00      5.000000e+00         0.000000e+00   \n",
      "25%                NaN  5.000000e+00      6.000000e+00         1.000000e+00   \n",
      "50%                NaN  2.030000e+02      8.000000e+00         1.000000e+00   \n",
      "75%                NaN  2.070000e+02      9.000000e+00         1.000000e+00   \n",
      "max                NaN  6.000000e+02      4.130000e+02         5.000000e+01   \n",
      "\n",
      "        consommation_level_1  consommation_level_2  consommation_level_3  \\\n",
      "count           4.476749e+06          4.476749e+06          4.476749e+06   \n",
      "unique                   NaN                   NaN                   NaN   \n",
      "top                      NaN                   NaN                   NaN   \n",
      "freq                     NaN                   NaN                   NaN   \n",
      "mean            4.109795e+02          1.093225e+02          2.030620e+01   \n",
      "std             7.573080e+02          1.220123e+03          1.574239e+02   \n",
      "min             0.000000e+00          0.000000e+00          0.000000e+00   \n",
      "25%             7.900000e+01          0.000000e+00          0.000000e+00   \n",
      "50%             2.740000e+02          0.000000e+00          0.000000e+00   \n",
      "75%             6.000000e+02          0.000000e+00          0.000000e+00   \n",
      "max             9.999100e+05          9.990730e+05          6.449200e+04   \n",
      "\n",
      "        consommation_level_4     old_index     new_index  months_number  \\\n",
      "count           4.476749e+06  4.476749e+06  4.476749e+06   4.476749e+06   \n",
      "unique                   NaN           NaN           NaN            NaN   \n",
      "top                      NaN           NaN           NaN            NaN   \n",
      "freq                     NaN           NaN           NaN            NaN   \n",
      "mean            5.292588e+01  1.776700e+04  1.834970e+04   4.483095e+01   \n",
      "std             8.754725e+02  4.036693e+04  4.095321e+04   3.128335e+03   \n",
      "min             0.000000e+00  0.000000e+00  0.000000e+00   0.000000e+00   \n",
      "25%             0.000000e+00  1.791000e+03  2.056000e+03   4.000000e+00   \n",
      "50%             0.000000e+00  7.690000e+03  8.192000e+03   4.000000e+00   \n",
      "75%             0.000000e+00  2.166000e+04  2.234300e+04   4.000000e+00   \n",
      "max             5.479460e+05  2.800280e+06  2.870972e+06   6.366240e+05   \n",
      "\n",
      "       counter_type  \n",
      "count       4476749  \n",
      "unique            2  \n",
      "top            ELEC  \n",
      "freq        3079406  \n",
      "mean            NaN  \n",
      "std             NaN  \n",
      "min             NaN  \n",
      "25%             NaN  \n",
      "50%             NaN  \n",
      "75%             NaN  \n",
      "max             NaN  \n"
     ]
    }
   ],
   "source": [
    "print(client_0_bills.describe(include = 'all'))"
   ]
  },
  {
   "cell_type": "code",
   "execution_count": null,
   "id": "f1dea213-5698-4634-94a7-e82bb730f8a2",
   "metadata": {},
   "outputs": [],
   "source": []
  }
 ],
 "metadata": {
  "kernelspec": {
   "display_name": "Python 3 (ipykernel)",
   "language": "python",
   "name": "python3"
  },
  "language_info": {
   "codemirror_mode": {
    "name": "ipython",
    "version": 3
   },
   "file_extension": ".py",
   "mimetype": "text/x-python",
   "name": "python",
   "nbconvert_exporter": "python",
   "pygments_lexer": "ipython3",
   "version": "3.12.7"
  }
 },
 "nbformat": 4,
 "nbformat_minor": 5
}
